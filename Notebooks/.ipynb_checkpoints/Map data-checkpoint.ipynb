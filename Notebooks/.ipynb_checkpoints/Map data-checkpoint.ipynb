{
 "cells": [
  {
   "cell_type": "code",
   "execution_count": 1,
   "id": "fb0b18ed",
   "metadata": {},
   "outputs": [],
   "source": [
    "import pandas as pd\n",
    "import matplotlib.pyplot as plt\n",
    "import numpy as np \n",
    "import seaborn as sb\n",
    "import json\n",
    "import os"
   ]
  },
  {
   "cell_type": "code",
   "execution_count": 3,
   "id": "2b65c325",
   "metadata": {},
   "outputs": [
    {
     "ename": "FileNotFoundError",
     "evalue": "[Errno 2] No such file or directory: 'My time on earth/Data/takeout-20210901T164843Z-001/Takeout/Location History/Location History.json'",
     "output_type": "error",
     "traceback": [
      "\u001b[1;31m---------------------------------------------------------------------------\u001b[0m",
      "\u001b[1;31mFileNotFoundError\u001b[0m                         Traceback (most recent call last)",
      "\u001b[1;32m<ipython-input-3-ee97a7e6efc9>\u001b[0m in \u001b[0;36m<module>\u001b[1;34m\u001b[0m\n\u001b[0;32m      1\u001b[0m \u001b[0mpath\u001b[0m \u001b[1;33m=\u001b[0m \u001b[1;34mr'My time on earth/Data/takeout-20210901T164843Z-001/Takeout/Location History/Location History.json'\u001b[0m\u001b[1;33m\u001b[0m\u001b[1;33m\u001b[0m\u001b[0m\n\u001b[1;32m----> 2\u001b[1;33m \u001b[1;32mwith\u001b[0m \u001b[0mopen\u001b[0m\u001b[1;33m(\u001b[0m\u001b[0mpath\u001b[0m\u001b[1;33m)\u001b[0m \u001b[1;32mas\u001b[0m \u001b[0mjson_file\u001b[0m\u001b[1;33m:\u001b[0m\u001b[1;33m\u001b[0m\u001b[1;33m\u001b[0m\u001b[0m\n\u001b[0m\u001b[0;32m      3\u001b[0m     \u001b[0mdata\u001b[0m \u001b[1;33m=\u001b[0m \u001b[0mjson\u001b[0m\u001b[1;33m.\u001b[0m\u001b[0mload\u001b[0m\u001b[1;33m(\u001b[0m\u001b[0mjson_file\u001b[0m\u001b[1;33m)\u001b[0m\u001b[1;33m\u001b[0m\u001b[1;33m\u001b[0m\u001b[0m\n\u001b[0;32m      4\u001b[0m     \u001b[0mdf\u001b[0m \u001b[1;33m=\u001b[0m \u001b[0mpd\u001b[0m\u001b[1;33m.\u001b[0m\u001b[0mDataFrame\u001b[0m\u001b[1;33m(\u001b[0m\u001b[0mdata\u001b[0m\u001b[1;33m[\u001b[0m\u001b[1;34m\"locations\"\u001b[0m \u001b[1;33m]\u001b[0m\u001b[1;33m)\u001b[0m\u001b[1;33m\u001b[0m\u001b[1;33m\u001b[0m\u001b[0m\n\u001b[0;32m      5\u001b[0m '''\n",
      "\u001b[1;31mFileNotFoundError\u001b[0m: [Errno 2] No such file or directory: 'My time on earth/Data/takeout-20210901T164843Z-001/Takeout/Location History/Location History.json'"
     ]
    }
   ],
   "source": [
    "path = r'/My time on earth/Data/takeout-20210901T164843Z-001/Takeout/Location History/Location History.json'\n",
    "with open(path) as json_file:\n",
    "    data = json.load(json_file)\n",
    "    df = pd.DataFrame(data[\"locations\" ])\n",
    "'''\n",
    "path2 = r'C:/Users/Moise/Documents/Data visualization/takeout-20210901T164843Z-001/Takeout/Location History/Semantic Location History/2017/2017_DECEMBER.json'\n",
    "with open(path2) as json_file:\n",
    "    data = json.load(json_file)\n",
    "    df2 = pd.DataFrame(data[\"activitySegment\" ])  '''"
   ]
  },
  {
   "cell_type": "code",
   "execution_count": 3,
   "id": "3a52659c",
   "metadata": {},
   "outputs": [],
   "source": [
    "df = df.rename(columns={'latitudeE7' : 'latitude','longitudeE7': 'longitude'})"
   ]
  },
  {
   "cell_type": "code",
   "execution_count": 4,
   "id": "6798c398",
   "metadata": {},
   "outputs": [],
   "source": [
    "df[\"latitude\"] = df[\"latitude\"] / 10000000\n",
    "df[\"longitude\"] = df[\"longitude\"] / 10000000\n",
    "df['time'] = pd.to_datetime(df[\"timestampMs\"], unit = \"ms\" )"
   ]
  },
  {
   "cell_type": "code",
   "execution_count": 5,
   "id": "07ef2b4b",
   "metadata": {},
   "outputs": [
    {
     "data": {
      "text/html": [
       "<div>\n",
       "<style scoped>\n",
       "    .dataframe tbody tr th:only-of-type {\n",
       "        vertical-align: middle;\n",
       "    }\n",
       "\n",
       "    .dataframe tbody tr th {\n",
       "        vertical-align: top;\n",
       "    }\n",
       "\n",
       "    .dataframe thead th {\n",
       "        text-align: right;\n",
       "    }\n",
       "</style>\n",
       "<table border=\"1\" class=\"dataframe\">\n",
       "  <thead>\n",
       "    <tr style=\"text-align: right;\">\n",
       "      <th></th>\n",
       "      <th>timestampMs</th>\n",
       "      <th>latitude</th>\n",
       "      <th>longitude</th>\n",
       "      <th>accuracy</th>\n",
       "      <th>source</th>\n",
       "      <th>deviceTag</th>\n",
       "      <th>activity</th>\n",
       "      <th>time</th>\n",
       "    </tr>\n",
       "  </thead>\n",
       "  <tbody>\n",
       "    <tr>\n",
       "      <th>0</th>\n",
       "      <td>1507973664000</td>\n",
       "      <td>47.471028</td>\n",
       "      <td>-0.553933</td>\n",
       "      <td>8</td>\n",
       "      <td>GPS</td>\n",
       "      <td>-1897172225</td>\n",
       "      <td>NaN</td>\n",
       "      <td>2017-10-14 09:34:24</td>\n",
       "    </tr>\n",
       "    <tr>\n",
       "      <th>1</th>\n",
       "      <td>1507973679000</td>\n",
       "      <td>47.471037</td>\n",
       "      <td>-0.553923</td>\n",
       "      <td>12</td>\n",
       "      <td>GPS</td>\n",
       "      <td>-1897172225</td>\n",
       "      <td>NaN</td>\n",
       "      <td>2017-10-14 09:34:39</td>\n",
       "    </tr>\n",
       "    <tr>\n",
       "      <th>2</th>\n",
       "      <td>1507973695000</td>\n",
       "      <td>47.471037</td>\n",
       "      <td>-0.553923</td>\n",
       "      <td>16</td>\n",
       "      <td>GPS</td>\n",
       "      <td>-1897172225</td>\n",
       "      <td>NaN</td>\n",
       "      <td>2017-10-14 09:34:55</td>\n",
       "    </tr>\n",
       "    <tr>\n",
       "      <th>3</th>\n",
       "      <td>1507973711000</td>\n",
       "      <td>47.471037</td>\n",
       "      <td>-0.553923</td>\n",
       "      <td>8</td>\n",
       "      <td>GPS</td>\n",
       "      <td>-1897172225</td>\n",
       "      <td>NaN</td>\n",
       "      <td>2017-10-14 09:35:11</td>\n",
       "    </tr>\n",
       "    <tr>\n",
       "      <th>4</th>\n",
       "      <td>1507973727000</td>\n",
       "      <td>47.470844</td>\n",
       "      <td>-0.553969</td>\n",
       "      <td>16</td>\n",
       "      <td>GPS</td>\n",
       "      <td>-1897172225</td>\n",
       "      <td>NaN</td>\n",
       "      <td>2017-10-14 09:35:27</td>\n",
       "    </tr>\n",
       "  </tbody>\n",
       "</table>\n",
       "</div>"
      ],
      "text/plain": [
       "     timestampMs   latitude  longitude  accuracy source   deviceTag activity  \\\n",
       "0  1507973664000  47.471028  -0.553933         8    GPS -1897172225      NaN   \n",
       "1  1507973679000  47.471037  -0.553923        12    GPS -1897172225      NaN   \n",
       "2  1507973695000  47.471037  -0.553923        16    GPS -1897172225      NaN   \n",
       "3  1507973711000  47.471037  -0.553923         8    GPS -1897172225      NaN   \n",
       "4  1507973727000  47.470844  -0.553969        16    GPS -1897172225      NaN   \n",
       "\n",
       "                 time  \n",
       "0 2017-10-14 09:34:24  \n",
       "1 2017-10-14 09:34:39  \n",
       "2 2017-10-14 09:34:55  \n",
       "3 2017-10-14 09:35:11  \n",
       "4 2017-10-14 09:35:27  "
      ]
     },
     "execution_count": 5,
     "metadata": {},
     "output_type": "execute_result"
    }
   ],
   "source": [
    "df.head()"
   ]
  },
  {
   "cell_type": "code",
   "execution_count": 6,
   "id": "db65aab2",
   "metadata": {},
   "outputs": [],
   "source": [
    "df3 = df[['latitude','longitude','time']]"
   ]
  },
  {
   "cell_type": "code",
   "execution_count": 7,
   "id": "c7477e0f",
   "metadata": {},
   "outputs": [],
   "source": [
    "def get_month(df): \n",
    "    return df.month"
   ]
  },
  {
   "cell_type": "code",
   "execution_count": 8,
   "id": "547d32e3",
   "metadata": {},
   "outputs": [
    {
     "data": {
      "text/plain": [
       "0       2017-10-14 09:34:24.000\n",
       "1       2017-10-14 09:34:39.000\n",
       "2       2017-10-14 09:34:55.000\n",
       "3       2017-10-14 09:35:11.000\n",
       "4       2017-10-14 09:35:27.000\n",
       "                  ...          \n",
       "89120   2018-05-04 15:35:28.175\n",
       "89121   2018-05-04 15:36:28.901\n",
       "89122   2018-05-04 15:38:30.037\n",
       "89123   2018-05-04 15:39:30.229\n",
       "89124   2018-05-04 16:25:25.408\n",
       "Name: time, Length: 89125, dtype: datetime64[ns]"
      ]
     },
     "execution_count": 8,
     "metadata": {},
     "output_type": "execute_result"
    }
   ],
   "source": [
    "df3['time'].map(pd.to_datetime)"
   ]
  },
  {
   "cell_type": "code",
   "execution_count": 9,
   "id": "0edc6e19",
   "metadata": {},
   "outputs": [
    {
     "name": "stderr",
     "output_type": "stream",
     "text": [
      "<ipython-input-9-1e8ec338fc8d>:1: SettingWithCopyWarning: \n",
      "A value is trying to be set on a copy of a slice from a DataFrame.\n",
      "Try using .loc[row_indexer,col_indexer] = value instead\n",
      "\n",
      "See the caveats in the documentation: https://pandas.pydata.org/pandas-docs/stable/user_guide/indexing.html#returning-a-view-versus-a-copy\n",
      "  df3['month'] = df3['time'].map(get_month)\n"
     ]
    }
   ],
   "source": [
    "df3['month'] = df3['time'].map(get_month)"
   ]
  },
  {
   "cell_type": "code",
   "execution_count": 10,
   "id": "e6d0e403",
   "metadata": {},
   "outputs": [
    {
     "data": {
      "text/html": [
       "<div>\n",
       "<style scoped>\n",
       "    .dataframe tbody tr th:only-of-type {\n",
       "        vertical-align: middle;\n",
       "    }\n",
       "\n",
       "    .dataframe tbody tr th {\n",
       "        vertical-align: top;\n",
       "    }\n",
       "\n",
       "    .dataframe thead th {\n",
       "        text-align: right;\n",
       "    }\n",
       "</style>\n",
       "<table border=\"1\" class=\"dataframe\">\n",
       "  <thead>\n",
       "    <tr style=\"text-align: right;\">\n",
       "      <th></th>\n",
       "      <th>latitude</th>\n",
       "      <th>longitude</th>\n",
       "      <th>time</th>\n",
       "      <th>month</th>\n",
       "    </tr>\n",
       "  </thead>\n",
       "  <tbody>\n",
       "    <tr>\n",
       "      <th>0</th>\n",
       "      <td>47.471028</td>\n",
       "      <td>-0.553933</td>\n",
       "      <td>2017-10-14 09:34:24</td>\n",
       "      <td>10</td>\n",
       "    </tr>\n",
       "    <tr>\n",
       "      <th>1</th>\n",
       "      <td>47.471037</td>\n",
       "      <td>-0.553923</td>\n",
       "      <td>2017-10-14 09:34:39</td>\n",
       "      <td>10</td>\n",
       "    </tr>\n",
       "    <tr>\n",
       "      <th>2</th>\n",
       "      <td>47.471037</td>\n",
       "      <td>-0.553923</td>\n",
       "      <td>2017-10-14 09:34:55</td>\n",
       "      <td>10</td>\n",
       "    </tr>\n",
       "    <tr>\n",
       "      <th>3</th>\n",
       "      <td>47.471037</td>\n",
       "      <td>-0.553923</td>\n",
       "      <td>2017-10-14 09:35:11</td>\n",
       "      <td>10</td>\n",
       "    </tr>\n",
       "    <tr>\n",
       "      <th>4</th>\n",
       "      <td>47.470844</td>\n",
       "      <td>-0.553969</td>\n",
       "      <td>2017-10-14 09:35:27</td>\n",
       "      <td>10</td>\n",
       "    </tr>\n",
       "  </tbody>\n",
       "</table>\n",
       "</div>"
      ],
      "text/plain": [
       "    latitude  longitude                time  month\n",
       "0  47.471028  -0.553933 2017-10-14 09:34:24     10\n",
       "1  47.471037  -0.553923 2017-10-14 09:34:39     10\n",
       "2  47.471037  -0.553923 2017-10-14 09:34:55     10\n",
       "3  47.471037  -0.553923 2017-10-14 09:35:11     10\n",
       "4  47.470844  -0.553969 2017-10-14 09:35:27     10"
      ]
     },
     "execution_count": 10,
     "metadata": {},
     "output_type": "execute_result"
    }
   ],
   "source": [
    "df3.head()"
   ]
  },
  {
   "cell_type": "code",
   "execution_count": 11,
   "id": "1db00087",
   "metadata": {},
   "outputs": [],
   "source": [
    "def get_dom(dt):\n",
    "    return dt.day"
   ]
  },
  {
   "cell_type": "code",
   "execution_count": 12,
   "id": "0637ae32",
   "metadata": {},
   "outputs": [
    {
     "name": "stderr",
     "output_type": "stream",
     "text": [
      "<ipython-input-12-9b31eac31d19>:1: SettingWithCopyWarning: \n",
      "A value is trying to be set on a copy of a slice from a DataFrame.\n",
      "Try using .loc[row_indexer,col_indexer] = value instead\n",
      "\n",
      "See the caveats in the documentation: https://pandas.pydata.org/pandas-docs/stable/user_guide/indexing.html#returning-a-view-versus-a-copy\n",
      "  df3['day'] = df3['time'].map(get_dom)\n"
     ]
    }
   ],
   "source": [
    "df3['day'] = df3['time'].map(get_dom)"
   ]
  },
  {
   "cell_type": "code",
   "execution_count": 13,
   "id": "914e3b9a",
   "metadata": {},
   "outputs": [],
   "source": [
    "def get_year(dt):\n",
    "    return dt.year"
   ]
  },
  {
   "cell_type": "code",
   "execution_count": 14,
   "id": "8cc5a2f1",
   "metadata": {},
   "outputs": [
    {
     "name": "stderr",
     "output_type": "stream",
     "text": [
      "<ipython-input-14-7321668a78f1>:1: SettingWithCopyWarning: \n",
      "A value is trying to be set on a copy of a slice from a DataFrame.\n",
      "Try using .loc[row_indexer,col_indexer] = value instead\n",
      "\n",
      "See the caveats in the documentation: https://pandas.pydata.org/pandas-docs/stable/user_guide/indexing.html#returning-a-view-versus-a-copy\n",
      "  df3['year'] = df3['time'].map(get_year)\n"
     ]
    }
   ],
   "source": [
    "df3['year'] = df3['time'].map(get_year)"
   ]
  },
  {
   "cell_type": "code",
   "execution_count": 15,
   "id": "72d3b3c8",
   "metadata": {},
   "outputs": [],
   "source": [
    "l = []\n",
    "for a, b in zip(df3['latitude'], df3['longitude']):\n",
    "    l.append((a,b))"
   ]
  },
  {
   "cell_type": "code",
   "execution_count": 16,
   "id": "5e6f8923",
   "metadata": {},
   "outputs": [
    {
     "name": "stderr",
     "output_type": "stream",
     "text": [
      "<ipython-input-16-dc5e5d013b8b>:1: SettingWithCopyWarning: \n",
      "A value is trying to be set on a copy of a slice from a DataFrame.\n",
      "Try using .loc[row_indexer,col_indexer] = value instead\n",
      "\n",
      "See the caveats in the documentation: https://pandas.pydata.org/pandas-docs/stable/user_guide/indexing.html#returning-a-view-versus-a-copy\n",
      "  df3['position'] = l\n"
     ]
    }
   ],
   "source": [
    "df3['position'] = l"
   ]
  },
  {
   "cell_type": "code",
   "execution_count": 17,
   "id": "0e2044f8",
   "metadata": {},
   "outputs": [
    {
     "data": {
      "text/html": [
       "<div>\n",
       "<style scoped>\n",
       "    .dataframe tbody tr th:only-of-type {\n",
       "        vertical-align: middle;\n",
       "    }\n",
       "\n",
       "    .dataframe tbody tr th {\n",
       "        vertical-align: top;\n",
       "    }\n",
       "\n",
       "    .dataframe thead th {\n",
       "        text-align: right;\n",
       "    }\n",
       "</style>\n",
       "<table border=\"1\" class=\"dataframe\">\n",
       "  <thead>\n",
       "    <tr style=\"text-align: right;\">\n",
       "      <th></th>\n",
       "      <th>latitude</th>\n",
       "      <th>longitude</th>\n",
       "      <th>time</th>\n",
       "      <th>month</th>\n",
       "      <th>day</th>\n",
       "      <th>year</th>\n",
       "      <th>position</th>\n",
       "    </tr>\n",
       "  </thead>\n",
       "  <tbody>\n",
       "    <tr>\n",
       "      <th>0</th>\n",
       "      <td>47.471028</td>\n",
       "      <td>-0.553933</td>\n",
       "      <td>2017-10-14 09:34:24</td>\n",
       "      <td>10</td>\n",
       "      <td>14</td>\n",
       "      <td>2017</td>\n",
       "      <td>(47.4710277, -0.5539328)</td>\n",
       "    </tr>\n",
       "    <tr>\n",
       "      <th>1</th>\n",
       "      <td>47.471037</td>\n",
       "      <td>-0.553923</td>\n",
       "      <td>2017-10-14 09:34:39</td>\n",
       "      <td>10</td>\n",
       "      <td>14</td>\n",
       "      <td>2017</td>\n",
       "      <td>(47.4710367, -0.5539233)</td>\n",
       "    </tr>\n",
       "    <tr>\n",
       "      <th>2</th>\n",
       "      <td>47.471037</td>\n",
       "      <td>-0.553923</td>\n",
       "      <td>2017-10-14 09:34:55</td>\n",
       "      <td>10</td>\n",
       "      <td>14</td>\n",
       "      <td>2017</td>\n",
       "      <td>(47.4710367, -0.5539233)</td>\n",
       "    </tr>\n",
       "    <tr>\n",
       "      <th>3</th>\n",
       "      <td>47.471037</td>\n",
       "      <td>-0.553923</td>\n",
       "      <td>2017-10-14 09:35:11</td>\n",
       "      <td>10</td>\n",
       "      <td>14</td>\n",
       "      <td>2017</td>\n",
       "      <td>(47.4710367, -0.5539233)</td>\n",
       "    </tr>\n",
       "    <tr>\n",
       "      <th>4</th>\n",
       "      <td>47.470844</td>\n",
       "      <td>-0.553969</td>\n",
       "      <td>2017-10-14 09:35:27</td>\n",
       "      <td>10</td>\n",
       "      <td>14</td>\n",
       "      <td>2017</td>\n",
       "      <td>(47.4708436, -0.5539688)</td>\n",
       "    </tr>\n",
       "  </tbody>\n",
       "</table>\n",
       "</div>"
      ],
      "text/plain": [
       "    latitude  longitude                time  month  day  year  \\\n",
       "0  47.471028  -0.553933 2017-10-14 09:34:24     10   14  2017   \n",
       "1  47.471037  -0.553923 2017-10-14 09:34:39     10   14  2017   \n",
       "2  47.471037  -0.553923 2017-10-14 09:34:55     10   14  2017   \n",
       "3  47.471037  -0.553923 2017-10-14 09:35:11     10   14  2017   \n",
       "4  47.470844  -0.553969 2017-10-14 09:35:27     10   14  2017   \n",
       "\n",
       "                   position  \n",
       "0  (47.4710277, -0.5539328)  \n",
       "1  (47.4710367, -0.5539233)  \n",
       "2  (47.4710367, -0.5539233)  \n",
       "3  (47.4710367, -0.5539233)  \n",
       "4  (47.4708436, -0.5539688)  "
      ]
     },
     "execution_count": 17,
     "metadata": {},
     "output_type": "execute_result"
    }
   ],
   "source": [
    "df3.head()"
   ]
  },
  {
   "cell_type": "code",
   "execution_count": 18,
   "id": "52f3a1a3",
   "metadata": {},
   "outputs": [],
   "source": [
    "def set_seconds(dt):\n",
    "    return(dt.replace(second=0, microsecond = 0))"
   ]
  },
  {
   "cell_type": "code",
   "execution_count": 19,
   "id": "07018532",
   "metadata": {},
   "outputs": [
    {
     "name": "stderr",
     "output_type": "stream",
     "text": [
      "<ipython-input-19-ee267bd1814a>:1: SettingWithCopyWarning: \n",
      "A value is trying to be set on a copy of a slice from a DataFrame.\n",
      "Try using .loc[row_indexer,col_indexer] = value instead\n",
      "\n",
      "See the caveats in the documentation: https://pandas.pydata.org/pandas-docs/stable/user_guide/indexing.html#returning-a-view-versus-a-copy\n",
      "  df3['time'] = df3['time'].map(set_seconds)\n"
     ]
    }
   ],
   "source": [
    "df3['time'] = df3['time'].map(set_seconds)"
   ]
  },
  {
   "cell_type": "code",
   "execution_count": 22,
   "id": "b7d4be6d",
   "metadata": {},
   "outputs": [],
   "source": [
    "def get_hour(dt):\n",
    "    return dt.hour"
   ]
  },
  {
   "cell_type": "code",
   "execution_count": 23,
   "id": "2224039b",
   "metadata": {},
   "outputs": [],
   "source": [
    "df3['hour'] = df3['time'].map(get_hour)"
   ]
  },
  {
   "cell_type": "code",
   "execution_count": 32,
   "id": "54bad914",
   "metadata": {},
   "outputs": [],
   "source": [
    "df3['time'] = df3['time'].map(pd.to_datetime)"
   ]
  },
  {
   "cell_type": "code",
   "execution_count": 33,
   "id": "171eccee",
   "metadata": {},
   "outputs": [
    {
     "data": {
      "text/html": [
       "<div>\n",
       "<style scoped>\n",
       "    .dataframe tbody tr th:only-of-type {\n",
       "        vertical-align: middle;\n",
       "    }\n",
       "\n",
       "    .dataframe tbody tr th {\n",
       "        vertical-align: top;\n",
       "    }\n",
       "\n",
       "    .dataframe thead th {\n",
       "        text-align: right;\n",
       "    }\n",
       "</style>\n",
       "<table border=\"1\" class=\"dataframe\">\n",
       "  <thead>\n",
       "    <tr style=\"text-align: right;\">\n",
       "      <th></th>\n",
       "      <th>latitude</th>\n",
       "      <th>longitude</th>\n",
       "      <th>time</th>\n",
       "      <th>month</th>\n",
       "      <th>day</th>\n",
       "      <th>year</th>\n",
       "      <th>position</th>\n",
       "      <th>hour</th>\n",
       "    </tr>\n",
       "  </thead>\n",
       "  <tbody>\n",
       "    <tr>\n",
       "      <th>0</th>\n",
       "      <td>47.471028</td>\n",
       "      <td>-0.553933</td>\n",
       "      <td>2017-10-14 09:34:00</td>\n",
       "      <td>10</td>\n",
       "      <td>14</td>\n",
       "      <td>2017</td>\n",
       "      <td>(47.4710277, -0.5539328)</td>\n",
       "      <td>9</td>\n",
       "    </tr>\n",
       "    <tr>\n",
       "      <th>1</th>\n",
       "      <td>47.471037</td>\n",
       "      <td>-0.553923</td>\n",
       "      <td>2017-10-14 09:34:00</td>\n",
       "      <td>10</td>\n",
       "      <td>14</td>\n",
       "      <td>2017</td>\n",
       "      <td>(47.4710367, -0.5539233)</td>\n",
       "      <td>9</td>\n",
       "    </tr>\n",
       "    <tr>\n",
       "      <th>2</th>\n",
       "      <td>47.471037</td>\n",
       "      <td>-0.553923</td>\n",
       "      <td>2017-10-14 09:34:00</td>\n",
       "      <td>10</td>\n",
       "      <td>14</td>\n",
       "      <td>2017</td>\n",
       "      <td>(47.4710367, -0.5539233)</td>\n",
       "      <td>9</td>\n",
       "    </tr>\n",
       "    <tr>\n",
       "      <th>3</th>\n",
       "      <td>47.471037</td>\n",
       "      <td>-0.553923</td>\n",
       "      <td>2017-10-14 09:35:00</td>\n",
       "      <td>10</td>\n",
       "      <td>14</td>\n",
       "      <td>2017</td>\n",
       "      <td>(47.4710367, -0.5539233)</td>\n",
       "      <td>9</td>\n",
       "    </tr>\n",
       "    <tr>\n",
       "      <th>4</th>\n",
       "      <td>47.470844</td>\n",
       "      <td>-0.553969</td>\n",
       "      <td>2017-10-14 09:35:00</td>\n",
       "      <td>10</td>\n",
       "      <td>14</td>\n",
       "      <td>2017</td>\n",
       "      <td>(47.4708436, -0.5539688)</td>\n",
       "      <td>9</td>\n",
       "    </tr>\n",
       "  </tbody>\n",
       "</table>\n",
       "</div>"
      ],
      "text/plain": [
       "    latitude  longitude                time  month  day  year  \\\n",
       "0  47.471028  -0.553933 2017-10-14 09:34:00     10   14  2017   \n",
       "1  47.471037  -0.553923 2017-10-14 09:34:00     10   14  2017   \n",
       "2  47.471037  -0.553923 2017-10-14 09:34:00     10   14  2017   \n",
       "3  47.471037  -0.553923 2017-10-14 09:35:00     10   14  2017   \n",
       "4  47.470844  -0.553969 2017-10-14 09:35:00     10   14  2017   \n",
       "\n",
       "                   position  hour  \n",
       "0  (47.4710277, -0.5539328)     9  \n",
       "1  (47.4710367, -0.5539233)     9  \n",
       "2  (47.4710367, -0.5539233)     9  \n",
       "3  (47.4710367, -0.5539233)     9  \n",
       "4  (47.4708436, -0.5539688)     9  "
      ]
     },
     "execution_count": 33,
     "metadata": {},
     "output_type": "execute_result"
    }
   ],
   "source": [
    "df3.head()"
   ]
  },
  {
   "cell_type": "code",
   "execution_count": 26,
   "id": "11958210",
   "metadata": {},
   "outputs": [],
   "source": [
    "df3[[\"latitude\", \"longitude\", \"time\",'year', 'month','day','hour']].to_csv(r'C:/Users/Moise/Documents/Data visualization/Project/map_data2.csv', index = False)\n",
    "#df[[\"latitude\", \"longitude\", \"ts\"]].to_csv(\"clean_data.csv\", index=False)"
   ]
  },
  {
   "cell_type": "code",
   "execution_count": 20,
   "id": "1ab2f946",
   "metadata": {},
   "outputs": [
    {
     "data": {
      "text/plain": [
       "10"
      ]
     },
     "execution_count": 20,
     "metadata": {},
     "output_type": "execute_result"
    }
   ],
   "source": [
    "df3['month'][0]"
   ]
  },
  {
   "cell_type": "code",
   "execution_count": 34,
   "id": "607f9387",
   "metadata": {},
   "outputs": [
    {
     "data": {
      "text/plain": [
       "pandas._libs.tslibs.timestamps.Timestamp"
      ]
     },
     "execution_count": 34,
     "metadata": {},
     "output_type": "execute_result"
    }
   ],
   "source": [
    "type(df3['time'][0])"
   ]
  },
  {
   "cell_type": "code",
   "execution_count": 36,
   "id": "fefc7b7a",
   "metadata": {},
   "outputs": [
    {
     "data": {
      "text/plain": [
       "tuple"
      ]
     },
     "execution_count": 36,
     "metadata": {},
     "output_type": "execute_result"
    }
   ],
   "source": [
    "type(df3['position'][0])"
   ]
  },
  {
   "cell_type": "code",
   "execution_count": 37,
   "id": "da2f6c96",
   "metadata": {},
   "outputs": [
    {
     "data": {
      "text/html": [
       "<div>\n",
       "<style scoped>\n",
       "    .dataframe tbody tr th:only-of-type {\n",
       "        vertical-align: middle;\n",
       "    }\n",
       "\n",
       "    .dataframe tbody tr th {\n",
       "        vertical-align: top;\n",
       "    }\n",
       "\n",
       "    .dataframe thead th {\n",
       "        text-align: right;\n",
       "    }\n",
       "</style>\n",
       "<table border=\"1\" class=\"dataframe\">\n",
       "  <thead>\n",
       "    <tr style=\"text-align: right;\">\n",
       "      <th></th>\n",
       "      <th>latitude</th>\n",
       "      <th>longitude</th>\n",
       "      <th>time</th>\n",
       "      <th>month</th>\n",
       "      <th>day</th>\n",
       "      <th>year</th>\n",
       "      <th>position</th>\n",
       "      <th>t</th>\n",
       "      <th>hour</th>\n",
       "    </tr>\n",
       "  </thead>\n",
       "  <tbody>\n",
       "    <tr>\n",
       "      <th>0</th>\n",
       "      <td>47.471028</td>\n",
       "      <td>-0.553933</td>\n",
       "      <td>2017-10-14 09:34:24</td>\n",
       "      <td>10</td>\n",
       "      <td>14</td>\n",
       "      <td>2017</td>\n",
       "      <td>(47.4710277, -0.5539328)</td>\n",
       "      <td>&lt;built-in method time of Timestamp object at 0...</td>\n",
       "      <td>9</td>\n",
       "    </tr>\n",
       "    <tr>\n",
       "      <th>1</th>\n",
       "      <td>47.471037</td>\n",
       "      <td>-0.553923</td>\n",
       "      <td>2017-10-14 09:34:39</td>\n",
       "      <td>10</td>\n",
       "      <td>14</td>\n",
       "      <td>2017</td>\n",
       "      <td>(47.4710367, -0.5539233)</td>\n",
       "      <td>&lt;built-in method time of Timestamp object at 0...</td>\n",
       "      <td>9</td>\n",
       "    </tr>\n",
       "    <tr>\n",
       "      <th>2</th>\n",
       "      <td>47.471037</td>\n",
       "      <td>-0.553923</td>\n",
       "      <td>2017-10-14 09:34:55</td>\n",
       "      <td>10</td>\n",
       "      <td>14</td>\n",
       "      <td>2017</td>\n",
       "      <td>(47.4710367, -0.5539233)</td>\n",
       "      <td>&lt;built-in method time of Timestamp object at 0...</td>\n",
       "      <td>9</td>\n",
       "    </tr>\n",
       "    <tr>\n",
       "      <th>3</th>\n",
       "      <td>47.471037</td>\n",
       "      <td>-0.553923</td>\n",
       "      <td>2017-10-14 09:35:11</td>\n",
       "      <td>10</td>\n",
       "      <td>14</td>\n",
       "      <td>2017</td>\n",
       "      <td>(47.4710367, -0.5539233)</td>\n",
       "      <td>&lt;built-in method time of Timestamp object at 0...</td>\n",
       "      <td>9</td>\n",
       "    </tr>\n",
       "    <tr>\n",
       "      <th>4</th>\n",
       "      <td>47.470844</td>\n",
       "      <td>-0.553969</td>\n",
       "      <td>2017-10-14 09:35:27</td>\n",
       "      <td>10</td>\n",
       "      <td>14</td>\n",
       "      <td>2017</td>\n",
       "      <td>(47.4708436, -0.5539688)</td>\n",
       "      <td>&lt;built-in method time of Timestamp object at 0...</td>\n",
       "      <td>9</td>\n",
       "    </tr>\n",
       "  </tbody>\n",
       "</table>\n",
       "</div>"
      ],
      "text/plain": [
       "    latitude  longitude                time  month  day  year  \\\n",
       "0  47.471028  -0.553933 2017-10-14 09:34:24     10   14  2017   \n",
       "1  47.471037  -0.553923 2017-10-14 09:34:39     10   14  2017   \n",
       "2  47.471037  -0.553923 2017-10-14 09:34:55     10   14  2017   \n",
       "3  47.471037  -0.553923 2017-10-14 09:35:11     10   14  2017   \n",
       "4  47.470844  -0.553969 2017-10-14 09:35:27     10   14  2017   \n",
       "\n",
       "                   position  \\\n",
       "0  (47.4710277, -0.5539328)   \n",
       "1  (47.4710367, -0.5539233)   \n",
       "2  (47.4710367, -0.5539233)   \n",
       "3  (47.4710367, -0.5539233)   \n",
       "4  (47.4708436, -0.5539688)   \n",
       "\n",
       "                                                   t  hour  \n",
       "0  <built-in method time of Timestamp object at 0...     9  \n",
       "1  <built-in method time of Timestamp object at 0...     9  \n",
       "2  <built-in method time of Timestamp object at 0...     9  \n",
       "3  <built-in method time of Timestamp object at 0...     9  \n",
       "4  <built-in method time of Timestamp object at 0...     9  "
      ]
     },
     "execution_count": 37,
     "metadata": {},
     "output_type": "execute_result"
    }
   ],
   "source": [
    "df3.head()"
   ]
  },
  {
   "cell_type": "code",
   "execution_count": 39,
   "id": "51db4e51",
   "metadata": {},
   "outputs": [],
   "source": [
    " map = pd.DataFrame(\n",
    "            np.array([[1,2]]),\n",
    "            columns=['lat', 'lon'])"
   ]
  },
  {
   "cell_type": "code",
   "execution_count": 40,
   "id": "b5d66b2f",
   "metadata": {},
   "outputs": [
    {
     "data": {
      "text/html": [
       "<div>\n",
       "<style scoped>\n",
       "    .dataframe tbody tr th:only-of-type {\n",
       "        vertical-align: middle;\n",
       "    }\n",
       "\n",
       "    .dataframe tbody tr th {\n",
       "        vertical-align: top;\n",
       "    }\n",
       "\n",
       "    .dataframe thead th {\n",
       "        text-align: right;\n",
       "    }\n",
       "</style>\n",
       "<table border=\"1\" class=\"dataframe\">\n",
       "  <thead>\n",
       "    <tr style=\"text-align: right;\">\n",
       "      <th></th>\n",
       "      <th>lat</th>\n",
       "      <th>lon</th>\n",
       "    </tr>\n",
       "  </thead>\n",
       "  <tbody>\n",
       "    <tr>\n",
       "      <th>0</th>\n",
       "      <td>1</td>\n",
       "      <td>2</td>\n",
       "    </tr>\n",
       "  </tbody>\n",
       "</table>\n",
       "</div>"
      ],
      "text/plain": [
       "   lat  lon\n",
       "0    1    2"
      ]
     },
     "execution_count": 40,
     "metadata": {},
     "output_type": "execute_result"
    }
   ],
   "source": [
    "map"
   ]
  },
  {
   "cell_type": "code",
   "execution_count": null,
   "id": "c56b7d55",
   "metadata": {},
   "outputs": [],
   "source": []
  }
 ],
 "metadata": {
  "kernelspec": {
   "display_name": "Python 3",
   "language": "python",
   "name": "python3"
  },
  "language_info": {
   "codemirror_mode": {
    "name": "ipython",
    "version": 3
   },
   "file_extension": ".py",
   "mimetype": "text/x-python",
   "name": "python",
   "nbconvert_exporter": "python",
   "pygments_lexer": "ipython3",
   "version": "3.8.8"
  }
 },
 "nbformat": 4,
 "nbformat_minor": 5
}
