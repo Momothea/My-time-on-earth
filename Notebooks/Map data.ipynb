{
 "cells": [
  {
   "cell_type": "code",
   "execution_count": 9,
   "id": "fb0b18ed",
   "metadata": {},
   "outputs": [],
   "source": [
    "import pandas as pd\n",
    "import matplotlib.pyplot as plt\n",
    "import numpy as np \n",
    "import seaborn as sb\n",
    "import json\n",
    "import os"
   ]
  },
  {
   "cell_type": "code",
   "execution_count": 10,
   "id": "2b65c325",
   "metadata": {},
   "outputs": [],
   "source": [
    "path = 'C:/Users/Moise/Documents/Data visualization/My time on earth/Data/takeout-20210901T164843Z-001/Takeout/Location History/Location History.json'\n",
    "with open(path) as json_file:\n",
    "    data = json.load(json_file)\n",
    "    df = pd.DataFrame(data[\"locations\" ])"
   ]
  },
  {
   "cell_type": "code",
   "execution_count": 11,
   "id": "3a52659c",
   "metadata": {},
   "outputs": [],
   "source": [
    "df = df.rename(columns={'latitudeE7' : 'latitude','longitudeE7': 'longitude'})"
   ]
  },
  {
   "cell_type": "code",
   "execution_count": 12,
   "id": "6798c398",
   "metadata": {},
   "outputs": [],
   "source": [
    "df[\"latitude\"] = df[\"latitude\"] / 10000000\n",
    "df[\"longitude\"] = df[\"longitude\"] / 10000000\n",
    "df['time'] = pd.to_datetime(df[\"timestampMs\"], unit = \"ms\" )"
   ]
  },
  {
   "cell_type": "code",
   "execution_count": 13,
   "id": "db65aab2",
   "metadata": {},
   "outputs": [],
   "source": [
    "df3 = df[['latitude','longitude','time']]"
   ]
  },
  {
   "cell_type": "code",
   "execution_count": 14,
   "id": "c7477e0f",
   "metadata": {},
   "outputs": [],
   "source": [
    "def get_month(df): \n",
    "    return df.month"
   ]
  },
  {
   "cell_type": "code",
   "execution_count": 15,
   "id": "547d32e3",
   "metadata": {},
   "outputs": [
    {
     "name": "stderr",
     "output_type": "stream",
     "text": [
      "<ipython-input-15-271ff2ec58c9>:1: SettingWithCopyWarning: \n",
      "A value is trying to be set on a copy of a slice from a DataFrame.\n",
      "Try using .loc[row_indexer,col_indexer] = value instead\n",
      "\n",
      "See the caveats in the documentation: https://pandas.pydata.org/pandas-docs/stable/user_guide/indexing.html#returning-a-view-versus-a-copy\n",
      "  df3['time'] = df3['time'].map(pd.to_datetime)\n"
     ]
    }
   ],
   "source": [
    "df3['time'] = df3['time'].map(pd.to_datetime)"
   ]
  },
  {
   "cell_type": "code",
   "execution_count": 16,
   "id": "0edc6e19",
   "metadata": {},
   "outputs": [
    {
     "name": "stderr",
     "output_type": "stream",
     "text": [
      "<ipython-input-16-1e8ec338fc8d>:1: SettingWithCopyWarning: \n",
      "A value is trying to be set on a copy of a slice from a DataFrame.\n",
      "Try using .loc[row_indexer,col_indexer] = value instead\n",
      "\n",
      "See the caveats in the documentation: https://pandas.pydata.org/pandas-docs/stable/user_guide/indexing.html#returning-a-view-versus-a-copy\n",
      "  df3['month'] = df3['time'].map(get_month)\n"
     ]
    }
   ],
   "source": [
    "df3['month'] = df3['time'].map(get_month)"
   ]
  },
  {
   "cell_type": "code",
   "execution_count": 17,
   "id": "e6d0e403",
   "metadata": {},
   "outputs": [
    {
     "data": {
      "text/html": [
       "<div>\n",
       "<style scoped>\n",
       "    .dataframe tbody tr th:only-of-type {\n",
       "        vertical-align: middle;\n",
       "    }\n",
       "\n",
       "    .dataframe tbody tr th {\n",
       "        vertical-align: top;\n",
       "    }\n",
       "\n",
       "    .dataframe thead th {\n",
       "        text-align: right;\n",
       "    }\n",
       "</style>\n",
       "<table border=\"1\" class=\"dataframe\">\n",
       "  <thead>\n",
       "    <tr style=\"text-align: right;\">\n",
       "      <th></th>\n",
       "      <th>latitude</th>\n",
       "      <th>longitude</th>\n",
       "      <th>time</th>\n",
       "      <th>month</th>\n",
       "    </tr>\n",
       "  </thead>\n",
       "  <tbody>\n",
       "    <tr>\n",
       "      <th>0</th>\n",
       "      <td>47.471028</td>\n",
       "      <td>-0.553933</td>\n",
       "      <td>2017-10-14 09:34:24</td>\n",
       "      <td>10</td>\n",
       "    </tr>\n",
       "    <tr>\n",
       "      <th>1</th>\n",
       "      <td>47.471037</td>\n",
       "      <td>-0.553923</td>\n",
       "      <td>2017-10-14 09:34:39</td>\n",
       "      <td>10</td>\n",
       "    </tr>\n",
       "    <tr>\n",
       "      <th>2</th>\n",
       "      <td>47.471037</td>\n",
       "      <td>-0.553923</td>\n",
       "      <td>2017-10-14 09:34:55</td>\n",
       "      <td>10</td>\n",
       "    </tr>\n",
       "    <tr>\n",
       "      <th>3</th>\n",
       "      <td>47.471037</td>\n",
       "      <td>-0.553923</td>\n",
       "      <td>2017-10-14 09:35:11</td>\n",
       "      <td>10</td>\n",
       "    </tr>\n",
       "    <tr>\n",
       "      <th>4</th>\n",
       "      <td>47.470844</td>\n",
       "      <td>-0.553969</td>\n",
       "      <td>2017-10-14 09:35:27</td>\n",
       "      <td>10</td>\n",
       "    </tr>\n",
       "  </tbody>\n",
       "</table>\n",
       "</div>"
      ],
      "text/plain": [
       "    latitude  longitude                time  month\n",
       "0  47.471028  -0.553933 2017-10-14 09:34:24     10\n",
       "1  47.471037  -0.553923 2017-10-14 09:34:39     10\n",
       "2  47.471037  -0.553923 2017-10-14 09:34:55     10\n",
       "3  47.471037  -0.553923 2017-10-14 09:35:11     10\n",
       "4  47.470844  -0.553969 2017-10-14 09:35:27     10"
      ]
     },
     "execution_count": 17,
     "metadata": {},
     "output_type": "execute_result"
    }
   ],
   "source": [
    "df3.head()"
   ]
  },
  {
   "cell_type": "code",
   "execution_count": 18,
   "id": "1db00087",
   "metadata": {},
   "outputs": [],
   "source": [
    "def get_dom(dt):\n",
    "    return dt.day"
   ]
  },
  {
   "cell_type": "code",
   "execution_count": 19,
   "id": "0637ae32",
   "metadata": {},
   "outputs": [
    {
     "name": "stderr",
     "output_type": "stream",
     "text": [
      "<ipython-input-19-9b31eac31d19>:1: SettingWithCopyWarning: \n",
      "A value is trying to be set on a copy of a slice from a DataFrame.\n",
      "Try using .loc[row_indexer,col_indexer] = value instead\n",
      "\n",
      "See the caveats in the documentation: https://pandas.pydata.org/pandas-docs/stable/user_guide/indexing.html#returning-a-view-versus-a-copy\n",
      "  df3['day'] = df3['time'].map(get_dom)\n"
     ]
    }
   ],
   "source": [
    "df3['day'] = df3['time'].map(get_dom)"
   ]
  },
  {
   "cell_type": "code",
   "execution_count": 20,
   "id": "914e3b9a",
   "metadata": {},
   "outputs": [],
   "source": [
    "def get_year(dt):\n",
    "    return dt.year"
   ]
  },
  {
   "cell_type": "code",
   "execution_count": 21,
   "id": "8cc5a2f1",
   "metadata": {},
   "outputs": [
    {
     "name": "stderr",
     "output_type": "stream",
     "text": [
      "<ipython-input-21-7321668a78f1>:1: SettingWithCopyWarning: \n",
      "A value is trying to be set on a copy of a slice from a DataFrame.\n",
      "Try using .loc[row_indexer,col_indexer] = value instead\n",
      "\n",
      "See the caveats in the documentation: https://pandas.pydata.org/pandas-docs/stable/user_guide/indexing.html#returning-a-view-versus-a-copy\n",
      "  df3['year'] = df3['time'].map(get_year)\n"
     ]
    }
   ],
   "source": [
    "df3['year'] = df3['time'].map(get_year)"
   ]
  },
  {
   "cell_type": "code",
   "execution_count": 22,
   "id": "72d3b3c8",
   "metadata": {},
   "outputs": [],
   "source": [
    "l = []\n",
    "for a, b in zip(df3['latitude'], df3['longitude']):\n",
    "    l.append((a,b))"
   ]
  },
  {
   "cell_type": "code",
   "execution_count": 23,
   "id": "5e6f8923",
   "metadata": {},
   "outputs": [
    {
     "name": "stderr",
     "output_type": "stream",
     "text": [
      "<ipython-input-23-dc5e5d013b8b>:1: SettingWithCopyWarning: \n",
      "A value is trying to be set on a copy of a slice from a DataFrame.\n",
      "Try using .loc[row_indexer,col_indexer] = value instead\n",
      "\n",
      "See the caveats in the documentation: https://pandas.pydata.org/pandas-docs/stable/user_guide/indexing.html#returning-a-view-versus-a-copy\n",
      "  df3['position'] = l\n"
     ]
    }
   ],
   "source": [
    "df3['position'] = l"
   ]
  },
  {
   "cell_type": "code",
   "execution_count": 24,
   "id": "0e2044f8",
   "metadata": {},
   "outputs": [
    {
     "data": {
      "text/html": [
       "<div>\n",
       "<style scoped>\n",
       "    .dataframe tbody tr th:only-of-type {\n",
       "        vertical-align: middle;\n",
       "    }\n",
       "\n",
       "    .dataframe tbody tr th {\n",
       "        vertical-align: top;\n",
       "    }\n",
       "\n",
       "    .dataframe thead th {\n",
       "        text-align: right;\n",
       "    }\n",
       "</style>\n",
       "<table border=\"1\" class=\"dataframe\">\n",
       "  <thead>\n",
       "    <tr style=\"text-align: right;\">\n",
       "      <th></th>\n",
       "      <th>latitude</th>\n",
       "      <th>longitude</th>\n",
       "      <th>time</th>\n",
       "      <th>month</th>\n",
       "      <th>day</th>\n",
       "      <th>year</th>\n",
       "      <th>position</th>\n",
       "    </tr>\n",
       "  </thead>\n",
       "  <tbody>\n",
       "    <tr>\n",
       "      <th>0</th>\n",
       "      <td>47.471028</td>\n",
       "      <td>-0.553933</td>\n",
       "      <td>2017-10-14 09:34:24</td>\n",
       "      <td>10</td>\n",
       "      <td>14</td>\n",
       "      <td>2017</td>\n",
       "      <td>(47.4710277, -0.5539328)</td>\n",
       "    </tr>\n",
       "    <tr>\n",
       "      <th>1</th>\n",
       "      <td>47.471037</td>\n",
       "      <td>-0.553923</td>\n",
       "      <td>2017-10-14 09:34:39</td>\n",
       "      <td>10</td>\n",
       "      <td>14</td>\n",
       "      <td>2017</td>\n",
       "      <td>(47.4710367, -0.5539233)</td>\n",
       "    </tr>\n",
       "    <tr>\n",
       "      <th>2</th>\n",
       "      <td>47.471037</td>\n",
       "      <td>-0.553923</td>\n",
       "      <td>2017-10-14 09:34:55</td>\n",
       "      <td>10</td>\n",
       "      <td>14</td>\n",
       "      <td>2017</td>\n",
       "      <td>(47.4710367, -0.5539233)</td>\n",
       "    </tr>\n",
       "    <tr>\n",
       "      <th>3</th>\n",
       "      <td>47.471037</td>\n",
       "      <td>-0.553923</td>\n",
       "      <td>2017-10-14 09:35:11</td>\n",
       "      <td>10</td>\n",
       "      <td>14</td>\n",
       "      <td>2017</td>\n",
       "      <td>(47.4710367, -0.5539233)</td>\n",
       "    </tr>\n",
       "    <tr>\n",
       "      <th>4</th>\n",
       "      <td>47.470844</td>\n",
       "      <td>-0.553969</td>\n",
       "      <td>2017-10-14 09:35:27</td>\n",
       "      <td>10</td>\n",
       "      <td>14</td>\n",
       "      <td>2017</td>\n",
       "      <td>(47.4708436, -0.5539688)</td>\n",
       "    </tr>\n",
       "  </tbody>\n",
       "</table>\n",
       "</div>"
      ],
      "text/plain": [
       "    latitude  longitude                time  month  day  year  \\\n",
       "0  47.471028  -0.553933 2017-10-14 09:34:24     10   14  2017   \n",
       "1  47.471037  -0.553923 2017-10-14 09:34:39     10   14  2017   \n",
       "2  47.471037  -0.553923 2017-10-14 09:34:55     10   14  2017   \n",
       "3  47.471037  -0.553923 2017-10-14 09:35:11     10   14  2017   \n",
       "4  47.470844  -0.553969 2017-10-14 09:35:27     10   14  2017   \n",
       "\n",
       "                   position  \n",
       "0  (47.4710277, -0.5539328)  \n",
       "1  (47.4710367, -0.5539233)  \n",
       "2  (47.4710367, -0.5539233)  \n",
       "3  (47.4710367, -0.5539233)  \n",
       "4  (47.4708436, -0.5539688)  "
      ]
     },
     "execution_count": 24,
     "metadata": {},
     "output_type": "execute_result"
    }
   ],
   "source": [
    "df3.head()"
   ]
  },
  {
   "cell_type": "code",
   "execution_count": 25,
   "id": "52f3a1a3",
   "metadata": {},
   "outputs": [],
   "source": [
    "def set_seconds(dt):\n",
    "    return(dt.replace(second=0, microsecond = 0))"
   ]
  },
  {
   "cell_type": "code",
   "execution_count": 26,
   "id": "07018532",
   "metadata": {},
   "outputs": [
    {
     "name": "stderr",
     "output_type": "stream",
     "text": [
      "<ipython-input-26-ee267bd1814a>:1: SettingWithCopyWarning: \n",
      "A value is trying to be set on a copy of a slice from a DataFrame.\n",
      "Try using .loc[row_indexer,col_indexer] = value instead\n",
      "\n",
      "See the caveats in the documentation: https://pandas.pydata.org/pandas-docs/stable/user_guide/indexing.html#returning-a-view-versus-a-copy\n",
      "  df3['time'] = df3['time'].map(set_seconds)\n"
     ]
    }
   ],
   "source": [
    "df3['time'] = df3['time'].map(set_seconds)"
   ]
  },
  {
   "cell_type": "code",
   "execution_count": 27,
   "id": "b7d4be6d",
   "metadata": {},
   "outputs": [],
   "source": [
    "def get_hour(dt):\n",
    "    return dt.hour"
   ]
  },
  {
   "cell_type": "code",
   "execution_count": 28,
   "id": "2224039b",
   "metadata": {},
   "outputs": [],
   "source": [
    "df3['hour'] = df3['time'].map(get_hour)"
   ]
  },
  {
   "cell_type": "code",
   "execution_count": 29,
   "id": "54bad914",
   "metadata": {},
   "outputs": [],
   "source": [
    "df3['time'] = df3['time'].map(pd.to_datetime)"
   ]
  },
  {
   "cell_type": "code",
   "execution_count": 30,
   "id": "171eccee",
   "metadata": {},
   "outputs": [
    {
     "data": {
      "text/html": [
       "<div>\n",
       "<style scoped>\n",
       "    .dataframe tbody tr th:only-of-type {\n",
       "        vertical-align: middle;\n",
       "    }\n",
       "\n",
       "    .dataframe tbody tr th {\n",
       "        vertical-align: top;\n",
       "    }\n",
       "\n",
       "    .dataframe thead th {\n",
       "        text-align: right;\n",
       "    }\n",
       "</style>\n",
       "<table border=\"1\" class=\"dataframe\">\n",
       "  <thead>\n",
       "    <tr style=\"text-align: right;\">\n",
       "      <th></th>\n",
       "      <th>latitude</th>\n",
       "      <th>longitude</th>\n",
       "      <th>time</th>\n",
       "      <th>month</th>\n",
       "      <th>day</th>\n",
       "      <th>year</th>\n",
       "      <th>position</th>\n",
       "      <th>hour</th>\n",
       "    </tr>\n",
       "  </thead>\n",
       "  <tbody>\n",
       "    <tr>\n",
       "      <th>0</th>\n",
       "      <td>47.471028</td>\n",
       "      <td>-0.553933</td>\n",
       "      <td>2017-10-14 09:34:00</td>\n",
       "      <td>10</td>\n",
       "      <td>14</td>\n",
       "      <td>2017</td>\n",
       "      <td>(47.4710277, -0.5539328)</td>\n",
       "      <td>9</td>\n",
       "    </tr>\n",
       "    <tr>\n",
       "      <th>1</th>\n",
       "      <td>47.471037</td>\n",
       "      <td>-0.553923</td>\n",
       "      <td>2017-10-14 09:34:00</td>\n",
       "      <td>10</td>\n",
       "      <td>14</td>\n",
       "      <td>2017</td>\n",
       "      <td>(47.4710367, -0.5539233)</td>\n",
       "      <td>9</td>\n",
       "    </tr>\n",
       "    <tr>\n",
       "      <th>2</th>\n",
       "      <td>47.471037</td>\n",
       "      <td>-0.553923</td>\n",
       "      <td>2017-10-14 09:34:00</td>\n",
       "      <td>10</td>\n",
       "      <td>14</td>\n",
       "      <td>2017</td>\n",
       "      <td>(47.4710367, -0.5539233)</td>\n",
       "      <td>9</td>\n",
       "    </tr>\n",
       "    <tr>\n",
       "      <th>3</th>\n",
       "      <td>47.471037</td>\n",
       "      <td>-0.553923</td>\n",
       "      <td>2017-10-14 09:35:00</td>\n",
       "      <td>10</td>\n",
       "      <td>14</td>\n",
       "      <td>2017</td>\n",
       "      <td>(47.4710367, -0.5539233)</td>\n",
       "      <td>9</td>\n",
       "    </tr>\n",
       "    <tr>\n",
       "      <th>4</th>\n",
       "      <td>47.470844</td>\n",
       "      <td>-0.553969</td>\n",
       "      <td>2017-10-14 09:35:00</td>\n",
       "      <td>10</td>\n",
       "      <td>14</td>\n",
       "      <td>2017</td>\n",
       "      <td>(47.4708436, -0.5539688)</td>\n",
       "      <td>9</td>\n",
       "    </tr>\n",
       "  </tbody>\n",
       "</table>\n",
       "</div>"
      ],
      "text/plain": [
       "    latitude  longitude                time  month  day  year  \\\n",
       "0  47.471028  -0.553933 2017-10-14 09:34:00     10   14  2017   \n",
       "1  47.471037  -0.553923 2017-10-14 09:34:00     10   14  2017   \n",
       "2  47.471037  -0.553923 2017-10-14 09:34:00     10   14  2017   \n",
       "3  47.471037  -0.553923 2017-10-14 09:35:00     10   14  2017   \n",
       "4  47.470844  -0.553969 2017-10-14 09:35:00     10   14  2017   \n",
       "\n",
       "                   position  hour  \n",
       "0  (47.4710277, -0.5539328)     9  \n",
       "1  (47.4710367, -0.5539233)     9  \n",
       "2  (47.4710367, -0.5539233)     9  \n",
       "3  (47.4710367, -0.5539233)     9  \n",
       "4  (47.4708436, -0.5539688)     9  "
      ]
     },
     "execution_count": 30,
     "metadata": {},
     "output_type": "execute_result"
    }
   ],
   "source": [
    "df3.head()"
   ]
  },
  {
   "cell_type": "code",
   "execution_count": 31,
   "id": "11958210",
   "metadata": {},
   "outputs": [],
   "source": [
    "df3[[\"latitude\", \"longitude\", \"time\",'year', 'month','day','hour']].to_csv(r'C:/Users/Moise/Documents/Data visualization/My time on earth/Data/map_data.csv', index = False)\n",
    "#df[[\"latitude\", \"longitude\", \"ts\"]].to_csv(\"clean_data.csv\", index=False)"
   ]
  },
  {
   "cell_type": "code",
   "execution_count": null,
   "id": "9de69648",
   "metadata": {},
   "outputs": [],
   "source": []
  }
 ],
 "metadata": {
  "kernelspec": {
   "display_name": "Python 3",
   "language": "python",
   "name": "python3"
  },
  "language_info": {
   "codemirror_mode": {
    "name": "ipython",
    "version": 3
   },
   "file_extension": ".py",
   "mimetype": "text/x-python",
   "name": "python",
   "nbconvert_exporter": "python",
   "pygments_lexer": "ipython3",
   "version": "3.8.8"
  }
 },
 "nbformat": 4,
 "nbformat_minor": 5
}
